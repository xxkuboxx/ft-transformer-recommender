{
 "cells": [
  {
   "cell_type": "code",
   "execution_count": 1,
   "id": "1b5d4d8c-5568-4a6f-8a0c-715a284b6c4a",
   "metadata": {},
   "outputs": [],
   "source": [
    "import pandas as pd"
   ]
  },
  {
   "cell_type": "code",
   "execution_count": 2,
   "id": "7a34bf92-cd29-4141-8cef-27c61649715a",
   "metadata": {},
   "outputs": [],
   "source": [
    "DATA_DIR = './Instacart_dataset/'"
   ]
  },
  {
   "cell_type": "code",
   "execution_count": 3,
   "id": "04b21961-d4a3-48a9-8c30-dae9a954e4c7",
   "metadata": {},
   "outputs": [],
   "source": [
    "products = pd.read_csv(f'{DATA_DIR}products.csv')\n",
    "aisles = pd.read_csv(f'{DATA_DIR}aisles.csv')\n",
    "departments = pd.read_csv(f'{DATA_DIR}departments.csv')\n",
    "orders = pd.read_csv(f'{DATA_DIR}orders.csv')\n",
    "order_products_prior = pd.read_csv(f'{DATA_DIR}order_products__prior.csv')"
   ]
  },
  {
   "cell_type": "code",
   "execution_count": 4,
   "id": "40e00b02-9ce1-4eba-9950-7d599d175a49",
   "metadata": {},
   "outputs": [],
   "source": [
    "# --- ステップ1: カテゴリカル特徴量の準備 ---\n",
    "# productにaisleとdepartmentの情報を結合します。\n",
    "item_profiles = products.merge(aisles, on='aisle_id', how='left')\n",
    "item_profiles = item_profiles.merge(departments, on='department_id', how='left')"
   ]
  },
  {
   "cell_type": "code",
   "execution_count": 5,
   "id": "ebfd716b-464e-460e-956c-d718a2fd9ef4",
   "metadata": {},
   "outputs": [],
   "source": [
    "# --- ステップ2: 購買行動ログから動的特徴量を計算 (その1) ---\n",
    "# reorder_rate, avg_add_to_cart_order, total_orders を計算します。\n",
    "prod_features_1 = order_products_prior.groupby('product_id').agg(\n",
    "    # その商品が再注文された割合 (商品の定番度)\n",
    "    reorder_rate=('reordered', 'mean'),\n",
    "    # カートに追加される平均的な順番\n",
    "    avg_add_to_cart_order=('add_to_cart_order', 'mean'),\n",
    "    # その商品が注文された総回数 (全体的な人気度)\n",
    "    total_orders=('order_id', 'count')\n",
    ").reset_index()"
   ]
  },
  {
   "cell_type": "code",
   "execution_count": 6,
   "id": "ed87fc83-c8cc-424b-970c-58725cebcba1",
   "metadata": {},
   "outputs": [],
   "source": [
    "# --- ステップ3: 購買行動ログから動的特徴量を計算 (その2) ---\n",
    "# unique_users, avg_days_since_prior_order を計算します。\n",
    "# この計算にはorders.csvの情報(user_id, days_since_prior_order)が必要です。\n",
    "merged_orders = order_products_prior.merge(orders, on='order_id', how='left')\n",
    "\n",
    "prod_features_2 = merged_orders.groupby('product_id').agg(\n",
    "    # その商品を購入したユニークユーザー数\n",
    "    unique_users=('user_id', 'nunique'),\n",
    "    # その商品を購入したユーザーの平均注文間隔\n",
    "    avg_days_since_prior_order=('days_since_prior_order', 'mean')\n",
    ").reset_index()"
   ]
  },
  {
   "cell_type": "code",
   "execution_count": 7,
   "id": "d840fab4-ed2e-4377-b93b-2afa34a39910",
   "metadata": {},
   "outputs": [],
   "source": [
    "# --- ステップ4: 全ての特徴量をproduct_idをキーとして結合 ---\n",
    "item_profiles = item_profiles.merge(prod_features_1, on='product_id', how='left')\n",
    "item_profiles = item_profiles.merge(prod_features_2, on='product_id', how='left')\n",
    "\n",
    "# 購買履歴がない商品（priorセットに一度も登場しない商品）の特徴量はNaNになるため、\n",
    "# 0で補完します。\n",
    "item_profiles = item_profiles.fillna(0)"
   ]
  },
  {
   "cell_type": "code",
   "execution_count": 8,
   "id": "94b8bea3-ee28-49b3-a28f-4bccdcc028ce",
   "metadata": {},
   "outputs": [],
   "source": [
    "# product_idをデータフレームのインデックスに設定します。\n",
    "item_profiles.set_index('product_id', inplace=True)"
   ]
  },
  {
   "cell_type": "code",
   "execution_count": 9,
   "id": "e4b08c2b-4709-4b6a-9d13-55b0f35b40a0",
   "metadata": {},
   "outputs": [
    {
     "data": {
      "text/html": [
       "<div>\n",
       "<style scoped>\n",
       "    .dataframe tbody tr th:only-of-type {\n",
       "        vertical-align: middle;\n",
       "    }\n",
       "\n",
       "    .dataframe tbody tr th {\n",
       "        vertical-align: top;\n",
       "    }\n",
       "\n",
       "    .dataframe thead th {\n",
       "        text-align: right;\n",
       "    }\n",
       "</style>\n",
       "<table border=\"1\" class=\"dataframe\">\n",
       "  <thead>\n",
       "    <tr style=\"text-align: right;\">\n",
       "      <th></th>\n",
       "      <th>product_name</th>\n",
       "      <th>aisle_id</th>\n",
       "      <th>department_id</th>\n",
       "      <th>aisle</th>\n",
       "      <th>department</th>\n",
       "      <th>reorder_rate</th>\n",
       "      <th>avg_add_to_cart_order</th>\n",
       "      <th>total_orders</th>\n",
       "      <th>unique_users</th>\n",
       "      <th>avg_days_since_prior_order</th>\n",
       "    </tr>\n",
       "    <tr>\n",
       "      <th>product_id</th>\n",
       "      <th></th>\n",
       "      <th></th>\n",
       "      <th></th>\n",
       "      <th></th>\n",
       "      <th></th>\n",
       "      <th></th>\n",
       "      <th></th>\n",
       "      <th></th>\n",
       "      <th></th>\n",
       "      <th></th>\n",
       "    </tr>\n",
       "  </thead>\n",
       "  <tbody>\n",
       "    <tr>\n",
       "      <th>1</th>\n",
       "      <td>Chocolate Sandwich Cookies</td>\n",
       "      <td>61</td>\n",
       "      <td>19</td>\n",
       "      <td>cookies cakes</td>\n",
       "      <td>snacks</td>\n",
       "      <td>0.613391</td>\n",
       "      <td>5.801836</td>\n",
       "      <td>1852.0</td>\n",
       "      <td>716.0</td>\n",
       "      <td>10.432725</td>\n",
       "    </tr>\n",
       "    <tr>\n",
       "      <th>2</th>\n",
       "      <td>All-Seasons Salt</td>\n",
       "      <td>104</td>\n",
       "      <td>13</td>\n",
       "      <td>spices seasonings</td>\n",
       "      <td>pantry</td>\n",
       "      <td>0.133333</td>\n",
       "      <td>9.888889</td>\n",
       "      <td>90.0</td>\n",
       "      <td>78.0</td>\n",
       "      <td>10.482759</td>\n",
       "    </tr>\n",
       "    <tr>\n",
       "      <th>3</th>\n",
       "      <td>Robust Golden Unsweetened Oolong Tea</td>\n",
       "      <td>94</td>\n",
       "      <td>7</td>\n",
       "      <td>tea</td>\n",
       "      <td>beverages</td>\n",
       "      <td>0.732852</td>\n",
       "      <td>6.415162</td>\n",
       "      <td>277.0</td>\n",
       "      <td>74.0</td>\n",
       "      <td>10.565385</td>\n",
       "    </tr>\n",
       "    <tr>\n",
       "      <th>4</th>\n",
       "      <td>Smart Ones Classic Favorites Mini Rigatoni Wit...</td>\n",
       "      <td>38</td>\n",
       "      <td>1</td>\n",
       "      <td>frozen meals</td>\n",
       "      <td>frozen</td>\n",
       "      <td>0.446809</td>\n",
       "      <td>9.507599</td>\n",
       "      <td>329.0</td>\n",
       "      <td>182.0</td>\n",
       "      <td>14.686207</td>\n",
       "    </tr>\n",
       "    <tr>\n",
       "      <th>5</th>\n",
       "      <td>Green Chile Anytime Sauce</td>\n",
       "      <td>5</td>\n",
       "      <td>13</td>\n",
       "      <td>marinades meat preparation</td>\n",
       "      <td>pantry</td>\n",
       "      <td>0.600000</td>\n",
       "      <td>6.466667</td>\n",
       "      <td>15.0</td>\n",
       "      <td>6.0</td>\n",
       "      <td>12.428571</td>\n",
       "    </tr>\n",
       "  </tbody>\n",
       "</table>\n",
       "</div>"
      ],
      "text/plain": [
       "                                                 product_name  aisle_id  \\\n",
       "product_id                                                                \n",
       "1                                  Chocolate Sandwich Cookies        61   \n",
       "2                                            All-Seasons Salt       104   \n",
       "3                        Robust Golden Unsweetened Oolong Tea        94   \n",
       "4           Smart Ones Classic Favorites Mini Rigatoni Wit...        38   \n",
       "5                                   Green Chile Anytime Sauce         5   \n",
       "\n",
       "            department_id                       aisle department  \\\n",
       "product_id                                                         \n",
       "1                      19               cookies cakes     snacks   \n",
       "2                      13           spices seasonings     pantry   \n",
       "3                       7                         tea  beverages   \n",
       "4                       1                frozen meals     frozen   \n",
       "5                      13  marinades meat preparation     pantry   \n",
       "\n",
       "            reorder_rate  avg_add_to_cart_order  total_orders  unique_users  \\\n",
       "product_id                                                                    \n",
       "1               0.613391               5.801836        1852.0         716.0   \n",
       "2               0.133333               9.888889          90.0          78.0   \n",
       "3               0.732852               6.415162         277.0          74.0   \n",
       "4               0.446809               9.507599         329.0         182.0   \n",
       "5               0.600000               6.466667          15.0           6.0   \n",
       "\n",
       "            avg_days_since_prior_order  \n",
       "product_id                              \n",
       "1                            10.432725  \n",
       "2                            10.482759  \n",
       "3                            10.565385  \n",
       "4                            14.686207  \n",
       "5                            12.428571  "
      ]
     },
     "execution_count": 9,
     "metadata": {},
     "output_type": "execute_result"
    }
   ],
   "source": [
    "# --- 最終的なアイテムプロファイルデータフレーム (最初の5行) ---\n",
    "item_profiles.head(5)"
   ]
  },
  {
   "cell_type": "code",
   "execution_count": 10,
   "id": "106ecf19-c0b0-4fdd-ac9e-67d11a661e5d",
   "metadata": {},
   "outputs": [
    {
     "name": "stdout",
     "output_type": "stream",
     "text": [
      "<class 'pandas.core.frame.DataFrame'>\n",
      "Index: 49688 entries, 1 to 49688\n",
      "Data columns (total 10 columns):\n",
      " #   Column                      Non-Null Count  Dtype  \n",
      "---  ------                      --------------  -----  \n",
      " 0   product_name                49688 non-null  object \n",
      " 1   aisle_id                    49688 non-null  int64  \n",
      " 2   department_id               49688 non-null  int64  \n",
      " 3   aisle                       49688 non-null  object \n",
      " 4   department                  49688 non-null  object \n",
      " 5   reorder_rate                49688 non-null  float64\n",
      " 6   avg_add_to_cart_order       49688 non-null  float64\n",
      " 7   total_orders                49688 non-null  float64\n",
      " 8   unique_users                49688 non-null  float64\n",
      " 9   avg_days_since_prior_order  49688 non-null  float64\n",
      "dtypes: float64(5), int64(2), object(3)\n",
      "memory usage: 4.2+ MB\n"
     ]
    }
   ],
   "source": [
    "# --- データフレームの情報 ---\n",
    "item_profiles.info()"
   ]
  },
  {
   "cell_type": "code",
   "execution_count": 11,
   "id": "5e956b4f-16c1-49f4-9dfb-18c2cf6930e1",
   "metadata": {
    "tags": []
   },
   "outputs": [],
   "source": [
    "item_profiles.to_csv('tmp_data/01_item_profiles.csv')"
   ]
  }
 ],
 "metadata": {
  "kernelspec": {
   "display_name": "Python 3 (ipykernel)",
   "language": "python",
   "name": "python3"
  },
  "language_info": {
   "codemirror_mode": {
    "name": "ipython",
    "version": 3
   },
   "file_extension": ".py",
   "mimetype": "text/x-python",
   "name": "python",
   "nbconvert_exporter": "python",
   "pygments_lexer": "ipython3",
   "version": "3.10.17"
  }
 },
 "nbformat": 4,
 "nbformat_minor": 5
}
