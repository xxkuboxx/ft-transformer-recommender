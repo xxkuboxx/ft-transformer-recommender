{
 "cells": [
  {
   "cell_type": "markdown",
   "id": "051f2b31-ec0a-4294-ae18-b00932c673a5",
   "metadata": {},
   "source": [
    "## 02. 学習用データセットの前処理\n",
    "\n",
    "このノートブックの目的：\n",
    "1. `01_feature_engineering.ipynb`で作成したアイテムプロファイルを読み込む。\n",
    "2. 数値特徴量をStandardScalerで標準化する。\n",
    "3. 注文履歴から「同時に購入された商品ペア（ポジティブペア）」を生成する。\n",
    "4. 上記2つを組み合わせて、sentence-transformersが学習に利用する`InputExample`オブジェクトを作成する。\n",
    "5. 次の`03_model_training.ipynb`で利用する中間ファイルを保存する。"
   ]
  },
  {
   "cell_type": "markdown",
   "id": "3434e3cf-a782-4604-bcb8-297ac8361864",
   "metadata": {},
   "source": [
    "### 1. 準備：ライブラリとデータの読み込み"
   ]
  },
  {
   "cell_type": "code",
   "execution_count": 1,
   "id": "bb27c21a-f9fd-4e41-a019-0cabe8af38d6",
   "metadata": {},
   "outputs": [],
   "source": [
    "import pandas as pd\n",
    "from sklearn.preprocessing import StandardScaler\n",
    "import itertools\n",
    "from sentence_transformers.readers import InputExample\n",
    "import pickle\n",
    "import os\n",
    "from tqdm import tqdm"
   ]
  },
  {
   "cell_type": "code",
   "execution_count": 2,
   "id": "9be4e26e-1341-4f68-95b4-d19819a08e27",
   "metadata": {},
   "outputs": [],
   "source": [
    "# --- 定数定義 ---\n",
    "# 入力データが格納されているディレクトリ\n",
    "DATA_DIR = './instacart_dataset/'\n",
    "# 中間成果物を保存するディレクトリ\n",
    "TMP_DATA_DIR = './tmp_data/'\n",
    "\n",
    "# 入力ファイルパス\n",
    "item_profiles_path = os.path.join(TMP_DATA_DIR, '01_item_profiles.csv')\n",
    "order_products_path = os.path.join(DATA_DIR, 'order_products__prior.csv')\n",
    "\n",
    "# 出力ファイルパス\n",
    "scaled_profiles_path = os.path.join(TMP_DATA_DIR, '02_item_profiles_scaled.csv')\n",
    "scaler_path = os.path.join(TMP_DATA_DIR, '02_scaler.pkl')\n",
    "train_examples_path = os.path.join(TMP_DATA_DIR, '02_train_examples.pkl')"
   ]
  },
  {
   "cell_type": "code",
   "execution_count": 3,
   "id": "cec2c8da-4507-45af-abc8-e1e7f15c48be",
   "metadata": {},
   "outputs": [],
   "source": [
    "# --- データの読み込み ---\n",
    "item_profiles_df = pd.read_csv(item_profiles_path)\n",
    "order_products_df = pd.read_csv(order_products_path)"
   ]
  },
  {
   "cell_type": "code",
   "execution_count": 4,
   "id": "95bd2716-0976-4fee-b614-6eec549010c0",
   "metadata": {},
   "outputs": [],
   "source": [
    "# --- 特徴量名の定義 ---\n",
    "# 計画書で定義した特徴量名をリスト化\n",
    "numerical_feature_names = [\n",
    "    'reorder_rate', 'avg_add_to_cart_order', 'total_orders',\n",
    "    'unique_users', 'avg_days_since_prior_order'\n",
    "]\n",
    "categorical_feature_names = ['aisle_id', 'department_id']"
   ]
  },
  {
   "cell_type": "markdown",
   "id": "ac85f402-1a58-4af8-a530-6dd25222ba74",
   "metadata": {},
   "source": [
    "### 2. 数値特徴量の標準化"
   ]
  },
  {
   "cell_type": "code",
   "execution_count": 5,
   "id": "1618303d-2430-4a1b-87cb-a2cb4e25d7d2",
   "metadata": {},
   "outputs": [],
   "source": [
    "scaler = StandardScaler()"
   ]
  },
  {
   "cell_type": "code",
   "execution_count": 6,
   "id": "c66966b2-4b5a-421d-9a63-649260965228",
   "metadata": {},
   "outputs": [],
   "source": [
    "# 数値特徴量を抽出し、標準化を適用\n",
    "item_profiles_df[numerical_feature_names] = scaler.fit_transform(\n",
    "    item_profiles_df[numerical_feature_names]\n",
    ")"
   ]
  },
  {
   "cell_type": "markdown",
   "id": "4fa467d2-1d50-4bc8-bb0f-79ab08c4738e",
   "metadata": {},
   "source": [
    "### 3. 中間成果物の保存: 標準化済みプロファイルとScaler\n"
   ]
  },
  {
   "cell_type": "code",
   "execution_count": 7,
   "id": "6a981b8e-75bf-4cd7-9abf-e1d48ccf459f",
   "metadata": {},
   "outputs": [],
   "source": [
    "# 標準化済みのアイテムプロファイルを保存\n",
    "item_profiles_df.to_csv(scaled_profiles_path, index=False)"
   ]
  },
  {
   "cell_type": "code",
   "execution_count": 8,
   "id": "31c2af1f-bcb2-430d-aa69-b4e0ad931e57",
   "metadata": {},
   "outputs": [],
   "source": [
    "# 後で推論に使うために、学習済みScalerを保存\n",
    "with open(scaler_path, 'wb') as f:\n",
    "    pickle.dump(scaler, f)"
   ]
  },
  {
   "cell_type": "markdown",
   "id": "89aa6a88-64d1-4b38-b077-0dcc149b5534",
   "metadata": {},
   "source": [
    "### 4. InputExampleの作成"
   ]
  },
  {
   "cell_type": "code",
   "execution_count": 9,
   "id": "fb94ad5f-7ea0-48e4-843a-e67344b466eb",
   "metadata": {},
   "outputs": [],
   "source": [
    "# --- パラメータ定義 ---\n",
    "# 最終的に目標とするペアの総数\n",
    "N_TARGET_PAIRS = 5_000_000\n",
    "# 1バスケットから抽出するペア数の上限。ノイズの多い巨大バスケットの影響を抑制する\n",
    "MAX_PAIRS_PER_BASKET = 10 \n",
    "# 再現性のための乱数シード\n",
    "RANDOM_STATE = 42"
   ]
  },
  {
   "cell_type": "code",
   "execution_count": 10,
   "id": "fb2b2448-85e8-454a-a23e-e0e8ff594872",
   "metadata": {},
   "outputs": [
    {
     "name": "stderr",
     "output_type": "stream",
     "text": [
      "注文バスケットの作成: 100%|██████████| 3214874/3214874 [01:38<00:00, 32533.48it/s]\n"
     ]
    }
   ],
   "source": [
    "# order_idでグループ化し、各注文に含まれる商品のリストを作成\n",
    "# tqdmを適用して進捗を表示\n",
    "tqdm.pandas(desc=\"注文バスケットの作成\")\n",
    "baskets = order_products_df.groupby('order_id')['product_id'].progress_apply(list)"
   ]
  },
  {
   "cell_type": "code",
   "execution_count": 11,
   "id": "b1c38ac7-ebe0-4654-8b1e-665c50683ee6",
   "metadata": {},
   "outputs": [
    {
     "name": "stdout",
     "output_type": "stream",
     "text": [
      "ペア生成対象のバスケット数: 3058126\n"
     ]
    }
   ],
   "source": [
    "# 2アイテム未満のバスケットはペアを生成できないので除外\n",
    "baskets = baskets[baskets.str.len() >= 2]\n",
    "print(f\"ペア生成対象のバスケット数: {len(baskets)}\")"
   ]
  },
  {
   "cell_type": "code",
   "execution_count": 12,
   "id": "98bb18b4-d0c8-4a58-9544-8f07f26a41d7",
   "metadata": {},
   "outputs": [
    {
     "name": "stderr",
     "output_type": "stream",
     "text": [
      "バスケットからペアをサンプリング中: 100%|██████████| 3058126/3058126 [00:38<00:00, 79458.44it/s]"
     ]
    },
    {
     "name": "stdout",
     "output_type": "stream",
     "text": [
      "上限設定ありで生成されたペアの総数: 26560810\n"
     ]
    },
    {
     "name": "stderr",
     "output_type": "stream",
     "text": [
      "\n"
     ]
    }
   ],
   "source": [
    "# --- ペアの生成とサンプリング ---\n",
    "# このアプローチの核心：\n",
    "# 全ペアを一度に生成せず、バスケットごとにサンプリングしながらペアリストを構築する。\n",
    "# これにより、巨大な中間データフレームの作成を回避し、メモリを節約する。\n",
    "\n",
    "import random\n",
    "random.seed(RANDOM_STATE) # randomモジュールのシードも固定\n",
    "\n",
    "final_pairs = []\n",
    "for basket in tqdm(baskets, desc=\"バスケットからペアをサンプリング中\"):\n",
    "    # バスケット内のアイテム数が多すぎても、生成するペアは上限を設ける\n",
    "    if len(basket) > (MAX_PAIRS_PER_BASKET * 2): # 大まかなヒューリスティック\n",
    "        # バスケットが巨大な場合、アイテム自体をサンプリングしてからペアを作る\n",
    "        sampled_basket = random.sample(basket, k=20) \n",
    "    else:\n",
    "        sampled_basket = basket\n",
    "        \n",
    "    # ペアを生成\n",
    "    pairs = list(itertools.combinations(sampled_basket, 2))\n",
    "    \n",
    "    # 1バスケットから生成されたペア数が上限を超える場合は、さらにサンプリング\n",
    "    if len(pairs) > MAX_PAIRS_PER_BASKET:\n",
    "        pairs = random.sample(pairs, k=MAX_PAIRS_PER_BASKET)\n",
    "        \n",
    "    final_pairs.extend(pairs)\n",
    "\n",
    "print(f\"上限設定ありで生成されたペアの総数: {len(final_pairs)}\")"
   ]
  },
  {
   "cell_type": "code",
   "execution_count": 13,
   "id": "d34a12d7-95be-4b1b-9c40-5be3d4799298",
   "metadata": {},
   "outputs": [
    {
     "name": "stdout",
     "output_type": "stream",
     "text": [
      "最終目標の 5,000,000 件にランダムサンプリングします。\n",
      "最終的な学習用ペアの数: 5000000\n"
     ]
    }
   ],
   "source": [
    "# --- 最終的なサンプリング ---\n",
    "# 目標のペア数になるように全体から最終サンプリング\n",
    "# これにより、特定のバスケットへの偏りをなくし、データセット全体から均一に抽出する\n",
    "if len(final_pairs) > N_TARGET_PAIRS:\n",
    "    print(f\"最終目標の {N_TARGET_PAIRS:,} 件にランダムサンプリングします。\")\n",
    "    final_pairs = random.sample(final_pairs, k=N_TARGET_PAIRS)\n",
    "else:\n",
    "    print(\"生成されたペア数が目標より少ないため、全て使用します。\")\n",
    "    N_TARGET_PAIRS = len(final_pairs)\n",
    "\n",
    "print(f\"最終的な学習用ペアの数: {len(final_pairs)}\")"
   ]
  },
  {
   "cell_type": "code",
   "execution_count": 14,
   "id": "227938bf-bd20-41d5-b9dc-ccf8adfacb60",
   "metadata": {},
   "outputs": [
    {
     "name": "stderr",
     "output_type": "stream",
     "text": [
      "InputExampleの作成: 100%|██████████| 5000000/5000000 [20:49<00:00, 4001.98it/s] "
     ]
    },
    {
     "name": "stdout",
     "output_type": "stream",
     "text": [
      "作成された学習サンプルの数: 5000000\n"
     ]
    },
    {
     "name": "stderr",
     "output_type": "stream",
     "text": [
      "\n"
     ]
    }
   ],
   "source": [
    "# --- InputExampleの作成 ---\n",
    "# 高速な検索のためにproduct_idをインデックスに設定\n",
    "item_profiles_df.set_index('product_id', inplace=True)\n",
    "\n",
    "train_examples = []\n",
    "for item_a_id, item_b_id in tqdm(final_pairs, desc=\"InputExampleの作成\"):\n",
    "    try:\n",
    "        item_a_features = item_profiles_df.loc[item_a_id].to_dict()\n",
    "        item_b_features = item_profiles_df.loc[item_b_id].to_dict()\n",
    "        example = InputExample(texts=[item_a_features, item_b_features])\n",
    "        train_examples.append(example)\n",
    "    except KeyError:\n",
    "        continue\n",
    "        \n",
    "print(f\"作成された学習サンプルの数: {len(train_examples)}\")"
   ]
  },
  {
   "cell_type": "markdown",
   "id": "cf7bb8af-faad-40c8-af07-59dcb63405f5",
   "metadata": {},
   "source": [
    "### 5. 中間成果物の保存: 学習用サンプル"
   ]
  },
  {
   "cell_type": "code",
   "execution_count": 15,
   "id": "fd268f83-79b2-492c-88ec-ae19773faece",
   "metadata": {
    "tags": []
   },
   "outputs": [
    {
     "name": "stdout",
     "output_type": "stream",
     "text": [
      "学習用InputExampleリストを './tmp_data/02_train_examples.pkl' に保存しました。\n"
     ]
    }
   ],
   "source": [
    "with open(train_examples_path, 'wb') as f:\n",
    "    pickle.dump(train_examples, f)\n",
    "\n",
    "print(f\"学習用InputExampleリストを '{train_examples_path}' に保存しました。\")"
   ]
  }
 ],
 "metadata": {
  "kernelspec": {
   "display_name": "Python 3 (ipykernel)",
   "language": "python",
   "name": "python3"
  },
  "language_info": {
   "codemirror_mode": {
    "name": "ipython",
    "version": 3
   },
   "file_extension": ".py",
   "mimetype": "text/x-python",
   "name": "python",
   "nbconvert_exporter": "python",
   "pygments_lexer": "ipython3",
   "version": "3.10.17"
  }
 },
 "nbformat": 4,
 "nbformat_minor": 5
}
